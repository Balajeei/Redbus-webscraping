{
  "nbformat": 4,
  "nbformat_minor": 0,
  "metadata": {
    "colab": {
      "provenance": [],
      "toc_visible": true
    },
    "kernelspec": {
      "name": "python3",
      "display_name": "Python 3"
    },
    "language_info": {
      "name": "python"
    }
  },
  "cells": [
    {
      "cell_type": "code",
      "execution_count": 2,
      "metadata": {
        "colab": {
          "base_uri": "https://localhost:8080/",
          "height": 17
        },
        "id": "Wl6JHsv21Ca4",
        "outputId": "7ad36dce-bbbf-4bda-9f66-aabbdaae3807"
      },
      "outputs": [
        {
          "output_type": "display_data",
          "data": {
            "text/plain": [
              "<IPython.core.display.Javascript object>"
            ],
            "application/javascript": [
              "\n",
              "    async function download(id, filename, size) {\n",
              "      if (!google.colab.kernel.accessAllowed) {\n",
              "        return;\n",
              "      }\n",
              "      const div = document.createElement('div');\n",
              "      const label = document.createElement('label');\n",
              "      label.textContent = `Downloading \"${filename}\": `;\n",
              "      div.appendChild(label);\n",
              "      const progress = document.createElement('progress');\n",
              "      progress.max = size;\n",
              "      div.appendChild(progress);\n",
              "      document.body.appendChild(div);\n",
              "\n",
              "      const buffers = [];\n",
              "      let downloaded = 0;\n",
              "\n",
              "      const channel = await google.colab.kernel.comms.open(id);\n",
              "      // Send a message to notify the kernel that we're ready.\n",
              "      channel.send({})\n",
              "\n",
              "      for await (const message of channel.messages) {\n",
              "        // Send a message to notify the kernel that we're ready.\n",
              "        channel.send({})\n",
              "        if (message.buffers) {\n",
              "          for (const buffer of message.buffers) {\n",
              "            buffers.push(buffer);\n",
              "            downloaded += buffer.byteLength;\n",
              "            progress.value = downloaded;\n",
              "          }\n",
              "        }\n",
              "      }\n",
              "      const blob = new Blob(buffers, {type: 'application/binary'});\n",
              "      const a = document.createElement('a');\n",
              "      a.href = window.URL.createObjectURL(blob);\n",
              "      a.download = filename;\n",
              "      div.appendChild(a);\n",
              "      a.click();\n",
              "      div.remove();\n",
              "    }\n",
              "  "
            ]
          },
          "metadata": {}
        },
        {
          "output_type": "display_data",
          "data": {
            "text/plain": [
              "<IPython.core.display.Javascript object>"
            ],
            "application/javascript": [
              "download(\"download_3ad4d58b-b5ca-4968-ba71-fa778076ee17\", \"full_file.xlsx\", 518769)"
            ]
          },
          "metadata": {}
        }
      ],
      "source": [
        "import pandas as pd\n",
        "from google.colab import files  # Import if you're using Google Colab\n",
        "\n",
        "# Load the data from Excel files\n",
        "a1 = pd.read_excel(\"/content/Telanaga_bus1.xlsx\")\n",
        "a2 = pd.read_excel(\"/content/Goa_bus2.xlsx\")\n",
        "a3 = pd.read_excel(\"/content/Kerala_bus3.xlsx\")\n",
        "a4 = pd.read_excel(\"/content/Himachal_Pradesh_bus4.xlsx\")\n",
        "a5 = pd.read_excel(\"/content/Assam_bus5.xlsx\")\n",
        "a6 = pd.read_excel(\"/content/Punjab_Bus6.xlsx\")\n",
        "a7 = pd.read_excel(\"/content/South_Bengal_Bus7.xlsx\")\n",
        "a8 = pd.read_excel(\"/content/West_Bengal_Bus8.xlsx\")\n",
        "a9 = pd.read_excel(\"/content/North_Bengal_Bus9.xlsx\")\n",
        "a10 = pd.read_excel(\"/content/Bihar_Bus10.xlsx\")\n",
        "\n",
        "# Add or update the 'S.No' and 'Transport Name' columns\n",
        "# Fill the 'S.No' column with 'TSLC' for a1 and 'WBTC' for a2\n",
        "a1['Transport Name'] = \"Telanaga\"\n",
        "a2['Transport Name'] = \"Goa\"\n",
        "a3['Transport Name'] = \"kerala\"\n",
        "a4['Transport Name'] = \"Himachal Pradesh\"\n",
        "a5['Transport Name'] = \"Assam\"\n",
        "a6['Transport Name'] = \"Punjab\"\n",
        "a7['Transport Name'] = \"South Bengal\"\n",
        "a8['Transport Name'] = \"West Bengal\"\n",
        "a9['Transport Name'] = \"North Bengal\"\n",
        "a10['Transport Name'] = \"Bihar\"\n",
        "\n",
        "# Concatenate the two DataFrames\n",
        "bus_merged = pd.concat([a1, a2, a3, a4, a5, a6, a7, a8, a9, a10], ignore_index=True)\n",
        "\n",
        "# Ensure the 'S.No' column exists and fill it with sequential numbers\n",
        "bus_merged['S.No'] = range(1, len(bus_merged) + 1)\n",
        "\n",
        "# Reorder columns to ensure 'S.No' and 'Transport Name' are the first two columns\n",
        "cols = ['S.No', 'Transport Name'] + [col for col in bus_merged.columns if col not in ['S.No', 'Transport Name']]\n",
        "bus_merged = bus_merged[cols]\n",
        "\n",
        "# Save the merged DataFrame to a new Excel file\n",
        "bus_merged.to_excel('/content/full_file.xlsx', index=False)\n",
        "\n",
        "# Download the file (Google Colab specific)\n",
        "files.download('full_file.xlsx')"
      ]
    },
    {
      "cell_type": "code",
      "source": [],
      "metadata": {
        "id": "jL4cQ1AZ1Ne8"
      },
      "execution_count": null,
      "outputs": []
    }
  ]
}